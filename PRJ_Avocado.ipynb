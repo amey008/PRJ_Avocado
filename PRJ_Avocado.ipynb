{
 "cells": [
  {
   "cell_type": "code",
   "execution_count": 460,
   "metadata": {},
   "outputs": [],
   "source": [
    "import numpy as np\n",
    "import pandas as pd\n",
    "import matplotlib.pyplot as plt\n",
    "import seaborn as sns\n",
    "import sklearn\n",
    "from sklearn.linear_model import LinearRegression\n",
    "from sklearn.metrics import mean_squared_error,mean_absolute_error\n",
    "from sklearn.model_selection import train_test_split\n"
   ]
  },
  {
   "cell_type": "code",
   "execution_count": 461,
   "metadata": {},
   "outputs": [],
   "source": [
    "#Loading Data Set into variable"
   ]
  },
  {
   "cell_type": "code",
   "execution_count": 462,
   "metadata": {},
   "outputs": [],
   "source": [
    "df = pd.read_csv('Avocado.csv')"
   ]
  },
  {
   "cell_type": "markdown",
   "metadata": {},
   "source": [
    "#In given dataset,there are blank rows from row number 1518. if we keep those rows then it will affect our data even we replace those values. thats why i remove all those records for better result. "
   ]
  },
  {
   "cell_type": "code",
   "execution_count": 463,
   "metadata": {},
   "outputs": [],
   "source": [
    "# Here I am loading the data set into a variable “df” and processing the first 5 rows"
   ]
  },
  {
   "cell_type": "code",
   "execution_count": 464,
   "metadata": {},
   "outputs": [
    {
     "data": {
      "text/html": [
       "<div>\n",
       "<style scoped>\n",
       "    .dataframe tbody tr th:only-of-type {\n",
       "        vertical-align: middle;\n",
       "    }\n",
       "\n",
       "    .dataframe tbody tr th {\n",
       "        vertical-align: top;\n",
       "    }\n",
       "\n",
       "    .dataframe thead th {\n",
       "        text-align: right;\n",
       "    }\n",
       "</style>\n",
       "<table border=\"1\" class=\"dataframe\">\n",
       "  <thead>\n",
       "    <tr style=\"text-align: right;\">\n",
       "      <th></th>\n",
       "      <th>Unnamed: 0</th>\n",
       "      <th>Date</th>\n",
       "      <th>AveragePrice</th>\n",
       "      <th>Total Volume</th>\n",
       "      <th>4046</th>\n",
       "      <th>4225</th>\n",
       "      <th>4770</th>\n",
       "      <th>Total Bags</th>\n",
       "      <th>Small Bags</th>\n",
       "      <th>Large Bags</th>\n",
       "      <th>XLarge Bags</th>\n",
       "      <th>type</th>\n",
       "      <th>year</th>\n",
       "      <th>region</th>\n",
       "    </tr>\n",
       "  </thead>\n",
       "  <tbody>\n",
       "    <tr>\n",
       "      <th>0</th>\n",
       "      <td>0</td>\n",
       "      <td>27-12-2015</td>\n",
       "      <td>1.33</td>\n",
       "      <td>64236.62</td>\n",
       "      <td>1036.74</td>\n",
       "      <td>54454.85</td>\n",
       "      <td>48.16</td>\n",
       "      <td>8696.87</td>\n",
       "      <td>8603.62</td>\n",
       "      <td>93.25</td>\n",
       "      <td>0.0</td>\n",
       "      <td>conventional</td>\n",
       "      <td>2015</td>\n",
       "      <td>Albany</td>\n",
       "    </tr>\n",
       "    <tr>\n",
       "      <th>1</th>\n",
       "      <td>1</td>\n",
       "      <td>20-12-2015</td>\n",
       "      <td>1.35</td>\n",
       "      <td>54876.98</td>\n",
       "      <td>674.28</td>\n",
       "      <td>44638.81</td>\n",
       "      <td>58.33</td>\n",
       "      <td>9505.56</td>\n",
       "      <td>9408.07</td>\n",
       "      <td>97.49</td>\n",
       "      <td>0.0</td>\n",
       "      <td>conventional</td>\n",
       "      <td>2015</td>\n",
       "      <td>Albany</td>\n",
       "    </tr>\n",
       "    <tr>\n",
       "      <th>2</th>\n",
       "      <td>2</td>\n",
       "      <td>13-12-2015</td>\n",
       "      <td>0.93</td>\n",
       "      <td>118220.22</td>\n",
       "      <td>794.70</td>\n",
       "      <td>109149.67</td>\n",
       "      <td>130.50</td>\n",
       "      <td>8145.35</td>\n",
       "      <td>8042.21</td>\n",
       "      <td>103.14</td>\n",
       "      <td>0.0</td>\n",
       "      <td>conventional</td>\n",
       "      <td>2015</td>\n",
       "      <td>Albany</td>\n",
       "    </tr>\n",
       "    <tr>\n",
       "      <th>3</th>\n",
       "      <td>3</td>\n",
       "      <td>06-12-2015</td>\n",
       "      <td>1.08</td>\n",
       "      <td>78992.15</td>\n",
       "      <td>1132.00</td>\n",
       "      <td>71976.41</td>\n",
       "      <td>72.58</td>\n",
       "      <td>5811.16</td>\n",
       "      <td>5677.40</td>\n",
       "      <td>133.76</td>\n",
       "      <td>0.0</td>\n",
       "      <td>conventional</td>\n",
       "      <td>2015</td>\n",
       "      <td>Albany</td>\n",
       "    </tr>\n",
       "    <tr>\n",
       "      <th>4</th>\n",
       "      <td>4</td>\n",
       "      <td>29-11-2015</td>\n",
       "      <td>1.28</td>\n",
       "      <td>51039.60</td>\n",
       "      <td>941.48</td>\n",
       "      <td>43838.39</td>\n",
       "      <td>75.78</td>\n",
       "      <td>6183.95</td>\n",
       "      <td>5986.26</td>\n",
       "      <td>197.69</td>\n",
       "      <td>0.0</td>\n",
       "      <td>conventional</td>\n",
       "      <td>2015</td>\n",
       "      <td>Albany</td>\n",
       "    </tr>\n",
       "  </tbody>\n",
       "</table>\n",
       "</div>"
      ],
      "text/plain": [
       "   Unnamed: 0        Date  AveragePrice  Total Volume     4046       4225  \\\n",
       "0           0  27-12-2015          1.33      64236.62  1036.74   54454.85   \n",
       "1           1  20-12-2015          1.35      54876.98   674.28   44638.81   \n",
       "2           2  13-12-2015          0.93     118220.22   794.70  109149.67   \n",
       "3           3  06-12-2015          1.08      78992.15  1132.00   71976.41   \n",
       "4           4  29-11-2015          1.28      51039.60   941.48   43838.39   \n",
       "\n",
       "     4770  Total Bags  Small Bags  Large Bags  XLarge Bags          type  \\\n",
       "0   48.16     8696.87     8603.62       93.25          0.0  conventional   \n",
       "1   58.33     9505.56     9408.07       97.49          0.0  conventional   \n",
       "2  130.50     8145.35     8042.21      103.14          0.0  conventional   \n",
       "3   72.58     5811.16     5677.40      133.76          0.0  conventional   \n",
       "4   75.78     6183.95     5986.26      197.69          0.0  conventional   \n",
       "\n",
       "   year  region  \n",
       "0  2015  Albany  \n",
       "1  2015  Albany  \n",
       "2  2015  Albany  \n",
       "3  2015  Albany  \n",
       "4  2015  Albany  "
      ]
     },
     "execution_count": 464,
     "metadata": {},
     "output_type": "execute_result"
    }
   ],
   "source": [
    "df.head()"
   ]
  },
  {
   "cell_type": "code",
   "execution_count": 465,
   "metadata": {},
   "outputs": [
    {
     "data": {
      "text/plain": [
       "(1517, 14)"
      ]
     },
     "execution_count": 465,
     "metadata": {},
     "output_type": "execute_result"
    }
   ],
   "source": [
    "# Checking shape of our dataset\n",
    "df.shape"
   ]
  },
  {
   "cell_type": "code",
   "execution_count": 466,
   "metadata": {},
   "outputs": [
    {
     "data": {
      "text/html": [
       "<div>\n",
       "<style scoped>\n",
       "    .dataframe tbody tr th:only-of-type {\n",
       "        vertical-align: middle;\n",
       "    }\n",
       "\n",
       "    .dataframe tbody tr th {\n",
       "        vertical-align: top;\n",
       "    }\n",
       "\n",
       "    .dataframe thead th {\n",
       "        text-align: right;\n",
       "    }\n",
       "</style>\n",
       "<table border=\"1\" class=\"dataframe\">\n",
       "  <thead>\n",
       "    <tr style=\"text-align: right;\">\n",
       "      <th></th>\n",
       "      <th>Unnamed: 0</th>\n",
       "      <th>AveragePrice</th>\n",
       "      <th>Total Volume</th>\n",
       "      <th>4046</th>\n",
       "      <th>4225</th>\n",
       "      <th>4770</th>\n",
       "      <th>Total Bags</th>\n",
       "      <th>Small Bags</th>\n",
       "      <th>Large Bags</th>\n",
       "      <th>XLarge Bags</th>\n",
       "      <th>year</th>\n",
       "    </tr>\n",
       "  </thead>\n",
       "  <tbody>\n",
       "    <tr>\n",
       "      <th>count</th>\n",
       "      <td>1517.000000</td>\n",
       "      <td>1517.000000</td>\n",
       "      <td>1.517000e+03</td>\n",
       "      <td>1.517000e+03</td>\n",
       "      <td>1.517000e+03</td>\n",
       "      <td>1.517000e+03</td>\n",
       "      <td>1.517000e+03</td>\n",
       "      <td>1.517000e+03</td>\n",
       "      <td>1.517000e+03</td>\n",
       "      <td>1517.000000</td>\n",
       "      <td>1517.000000</td>\n",
       "    </tr>\n",
       "    <tr>\n",
       "      <th>mean</th>\n",
       "      <td>26.995386</td>\n",
       "      <td>1.074990</td>\n",
       "      <td>1.601879e+06</td>\n",
       "      <td>6.464387e+05</td>\n",
       "      <td>6.114375e+05</td>\n",
       "      <td>5.040550e+04</td>\n",
       "      <td>2.935974e+05</td>\n",
       "      <td>2.487736e+05</td>\n",
       "      <td>4.264205e+04</td>\n",
       "      <td>2181.771074</td>\n",
       "      <td>2015.162821</td>\n",
       "    </tr>\n",
       "    <tr>\n",
       "      <th>std</th>\n",
       "      <td>14.848287</td>\n",
       "      <td>0.188891</td>\n",
       "      <td>4.433143e+06</td>\n",
       "      <td>1.947614e+06</td>\n",
       "      <td>1.672906e+06</td>\n",
       "      <td>1.377812e+05</td>\n",
       "      <td>7.579765e+05</td>\n",
       "      <td>6.474765e+05</td>\n",
       "      <td>1.182157e+05</td>\n",
       "      <td>7455.712144</td>\n",
       "      <td>0.369324</td>\n",
       "    </tr>\n",
       "    <tr>\n",
       "      <th>min</th>\n",
       "      <td>0.000000</td>\n",
       "      <td>0.490000</td>\n",
       "      <td>3.875074e+04</td>\n",
       "      <td>4.677200e+02</td>\n",
       "      <td>1.783770e+03</td>\n",
       "      <td>0.000000e+00</td>\n",
       "      <td>3.311770e+03</td>\n",
       "      <td>3.311770e+03</td>\n",
       "      <td>0.000000e+00</td>\n",
       "      <td>0.000000</td>\n",
       "      <td>2015.000000</td>\n",
       "    </tr>\n",
       "    <tr>\n",
       "      <th>25%</th>\n",
       "      <td>14.000000</td>\n",
       "      <td>0.980000</td>\n",
       "      <td>1.474700e+05</td>\n",
       "      <td>2.040034e+04</td>\n",
       "      <td>4.147606e+04</td>\n",
       "      <td>9.112500e+02</td>\n",
       "      <td>3.620689e+04</td>\n",
       "      <td>2.972722e+04</td>\n",
       "      <td>5.407400e+02</td>\n",
       "      <td>0.000000</td>\n",
       "      <td>2015.000000</td>\n",
       "    </tr>\n",
       "    <tr>\n",
       "      <th>50%</th>\n",
       "      <td>29.000000</td>\n",
       "      <td>1.080000</td>\n",
       "      <td>4.027919e+05</td>\n",
       "      <td>8.175117e+04</td>\n",
       "      <td>1.186649e+05</td>\n",
       "      <td>7.688170e+03</td>\n",
       "      <td>7.397906e+04</td>\n",
       "      <td>6.237569e+04</td>\n",
       "      <td>5.044350e+03</td>\n",
       "      <td>0.000000</td>\n",
       "      <td>2015.000000</td>\n",
       "    </tr>\n",
       "    <tr>\n",
       "      <th>75%</th>\n",
       "      <td>39.000000</td>\n",
       "      <td>1.190000</td>\n",
       "      <td>9.819751e+05</td>\n",
       "      <td>3.775785e+05</td>\n",
       "      <td>4.851503e+05</td>\n",
       "      <td>2.916730e+04</td>\n",
       "      <td>1.576097e+05</td>\n",
       "      <td>1.461994e+05</td>\n",
       "      <td>2.926767e+04</td>\n",
       "      <td>401.480000</td>\n",
       "      <td>2015.000000</td>\n",
       "    </tr>\n",
       "    <tr>\n",
       "      <th>max</th>\n",
       "      <td>51.000000</td>\n",
       "      <td>1.680000</td>\n",
       "      <td>4.465546e+07</td>\n",
       "      <td>1.893304e+07</td>\n",
       "      <td>1.895648e+07</td>\n",
       "      <td>1.381516e+06</td>\n",
       "      <td>6.736304e+06</td>\n",
       "      <td>5.893642e+06</td>\n",
       "      <td>1.121076e+06</td>\n",
       "      <td>108072.790000</td>\n",
       "      <td>2016.000000</td>\n",
       "    </tr>\n",
       "  </tbody>\n",
       "</table>\n",
       "</div>"
      ],
      "text/plain": [
       "        Unnamed: 0  AveragePrice  Total Volume          4046          4225  \\\n",
       "count  1517.000000   1517.000000  1.517000e+03  1.517000e+03  1.517000e+03   \n",
       "mean     26.995386      1.074990  1.601879e+06  6.464387e+05  6.114375e+05   \n",
       "std      14.848287      0.188891  4.433143e+06  1.947614e+06  1.672906e+06   \n",
       "min       0.000000      0.490000  3.875074e+04  4.677200e+02  1.783770e+03   \n",
       "25%      14.000000      0.980000  1.474700e+05  2.040034e+04  4.147606e+04   \n",
       "50%      29.000000      1.080000  4.027919e+05  8.175117e+04  1.186649e+05   \n",
       "75%      39.000000      1.190000  9.819751e+05  3.775785e+05  4.851503e+05   \n",
       "max      51.000000      1.680000  4.465546e+07  1.893304e+07  1.895648e+07   \n",
       "\n",
       "               4770    Total Bags    Small Bags    Large Bags    XLarge Bags  \\\n",
       "count  1.517000e+03  1.517000e+03  1.517000e+03  1.517000e+03    1517.000000   \n",
       "mean   5.040550e+04  2.935974e+05  2.487736e+05  4.264205e+04    2181.771074   \n",
       "std    1.377812e+05  7.579765e+05  6.474765e+05  1.182157e+05    7455.712144   \n",
       "min    0.000000e+00  3.311770e+03  3.311770e+03  0.000000e+00       0.000000   \n",
       "25%    9.112500e+02  3.620689e+04  2.972722e+04  5.407400e+02       0.000000   \n",
       "50%    7.688170e+03  7.397906e+04  6.237569e+04  5.044350e+03       0.000000   \n",
       "75%    2.916730e+04  1.576097e+05  1.461994e+05  2.926767e+04     401.480000   \n",
       "max    1.381516e+06  6.736304e+06  5.893642e+06  1.121076e+06  108072.790000   \n",
       "\n",
       "              year  \n",
       "count  1517.000000  \n",
       "mean   2015.162821  \n",
       "std       0.369324  \n",
       "min    2015.000000  \n",
       "25%    2015.000000  \n",
       "50%    2015.000000  \n",
       "75%    2015.000000  \n",
       "max    2016.000000  "
      ]
     },
     "execution_count": 466,
     "metadata": {},
     "output_type": "execute_result"
    }
   ],
   "source": [
    "df.describe()"
   ]
  },
  {
   "cell_type": "code",
   "execution_count": 467,
   "metadata": {},
   "outputs": [
    {
     "data": {
      "text/plain": [
       "Unnamed: 0        int64\n",
       "Date             object\n",
       "AveragePrice    float64\n",
       "Total Volume    float64\n",
       "4046            float64\n",
       "4225            float64\n",
       "4770            float64\n",
       "Total Bags      float64\n",
       "Small Bags      float64\n",
       "Large Bags      float64\n",
       "XLarge Bags     float64\n",
       "type             object\n",
       "year              int64\n",
       "region           object\n",
       "dtype: object"
      ]
     },
     "execution_count": 467,
     "metadata": {},
     "output_type": "execute_result"
    }
   ],
   "source": [
    "df.dtypes"
   ]
  },
  {
   "cell_type": "markdown",
   "metadata": {},
   "source": [
    "# The Feature \"Unnamed:0\" is just a representation of the indexes, which does not play any important role for prediction in the price of avocado, so we will drop this column"
   ]
  },
  {
   "cell_type": "code",
   "execution_count": 468,
   "metadata": {},
   "outputs": [],
   "source": [
    "df.drop('Unnamed: 0',axis=1,inplace=True)"
   ]
  },
  {
   "cell_type": "markdown",
   "metadata": {},
   "source": [
    "# lest check our datset again"
   ]
  },
  {
   "cell_type": "code",
   "execution_count": 469,
   "metadata": {},
   "outputs": [
    {
     "data": {
      "text/html": [
       "<div>\n",
       "<style scoped>\n",
       "    .dataframe tbody tr th:only-of-type {\n",
       "        vertical-align: middle;\n",
       "    }\n",
       "\n",
       "    .dataframe tbody tr th {\n",
       "        vertical-align: top;\n",
       "    }\n",
       "\n",
       "    .dataframe thead th {\n",
       "        text-align: right;\n",
       "    }\n",
       "</style>\n",
       "<table border=\"1\" class=\"dataframe\">\n",
       "  <thead>\n",
       "    <tr style=\"text-align: right;\">\n",
       "      <th></th>\n",
       "      <th>Date</th>\n",
       "      <th>AveragePrice</th>\n",
       "      <th>Total Volume</th>\n",
       "      <th>4046</th>\n",
       "      <th>4225</th>\n",
       "      <th>4770</th>\n",
       "      <th>Total Bags</th>\n",
       "      <th>Small Bags</th>\n",
       "      <th>Large Bags</th>\n",
       "      <th>XLarge Bags</th>\n",
       "      <th>type</th>\n",
       "      <th>year</th>\n",
       "      <th>region</th>\n",
       "    </tr>\n",
       "  </thead>\n",
       "  <tbody>\n",
       "    <tr>\n",
       "      <th>0</th>\n",
       "      <td>27-12-2015</td>\n",
       "      <td>1.33</td>\n",
       "      <td>64236.62</td>\n",
       "      <td>1036.74</td>\n",
       "      <td>54454.85</td>\n",
       "      <td>48.16</td>\n",
       "      <td>8696.87</td>\n",
       "      <td>8603.62</td>\n",
       "      <td>93.25</td>\n",
       "      <td>0.0</td>\n",
       "      <td>conventional</td>\n",
       "      <td>2015</td>\n",
       "      <td>Albany</td>\n",
       "    </tr>\n",
       "    <tr>\n",
       "      <th>1</th>\n",
       "      <td>20-12-2015</td>\n",
       "      <td>1.35</td>\n",
       "      <td>54876.98</td>\n",
       "      <td>674.28</td>\n",
       "      <td>44638.81</td>\n",
       "      <td>58.33</td>\n",
       "      <td>9505.56</td>\n",
       "      <td>9408.07</td>\n",
       "      <td>97.49</td>\n",
       "      <td>0.0</td>\n",
       "      <td>conventional</td>\n",
       "      <td>2015</td>\n",
       "      <td>Albany</td>\n",
       "    </tr>\n",
       "    <tr>\n",
       "      <th>2</th>\n",
       "      <td>13-12-2015</td>\n",
       "      <td>0.93</td>\n",
       "      <td>118220.22</td>\n",
       "      <td>794.70</td>\n",
       "      <td>109149.67</td>\n",
       "      <td>130.50</td>\n",
       "      <td>8145.35</td>\n",
       "      <td>8042.21</td>\n",
       "      <td>103.14</td>\n",
       "      <td>0.0</td>\n",
       "      <td>conventional</td>\n",
       "      <td>2015</td>\n",
       "      <td>Albany</td>\n",
       "    </tr>\n",
       "    <tr>\n",
       "      <th>3</th>\n",
       "      <td>06-12-2015</td>\n",
       "      <td>1.08</td>\n",
       "      <td>78992.15</td>\n",
       "      <td>1132.00</td>\n",
       "      <td>71976.41</td>\n",
       "      <td>72.58</td>\n",
       "      <td>5811.16</td>\n",
       "      <td>5677.40</td>\n",
       "      <td>133.76</td>\n",
       "      <td>0.0</td>\n",
       "      <td>conventional</td>\n",
       "      <td>2015</td>\n",
       "      <td>Albany</td>\n",
       "    </tr>\n",
       "    <tr>\n",
       "      <th>4</th>\n",
       "      <td>29-11-2015</td>\n",
       "      <td>1.28</td>\n",
       "      <td>51039.60</td>\n",
       "      <td>941.48</td>\n",
       "      <td>43838.39</td>\n",
       "      <td>75.78</td>\n",
       "      <td>6183.95</td>\n",
       "      <td>5986.26</td>\n",
       "      <td>197.69</td>\n",
       "      <td>0.0</td>\n",
       "      <td>conventional</td>\n",
       "      <td>2015</td>\n",
       "      <td>Albany</td>\n",
       "    </tr>\n",
       "  </tbody>\n",
       "</table>\n",
       "</div>"
      ],
      "text/plain": [
       "         Date  AveragePrice  Total Volume     4046       4225    4770  \\\n",
       "0  27-12-2015          1.33      64236.62  1036.74   54454.85   48.16   \n",
       "1  20-12-2015          1.35      54876.98   674.28   44638.81   58.33   \n",
       "2  13-12-2015          0.93     118220.22   794.70  109149.67  130.50   \n",
       "3  06-12-2015          1.08      78992.15  1132.00   71976.41   72.58   \n",
       "4  29-11-2015          1.28      51039.60   941.48   43838.39   75.78   \n",
       "\n",
       "   Total Bags  Small Bags  Large Bags  XLarge Bags          type  year  region  \n",
       "0     8696.87     8603.62       93.25          0.0  conventional  2015  Albany  \n",
       "1     9505.56     9408.07       97.49          0.0  conventional  2015  Albany  \n",
       "2     8145.35     8042.21      103.14          0.0  conventional  2015  Albany  \n",
       "3     5811.16     5677.40      133.76          0.0  conventional  2015  Albany  \n",
       "4     6183.95     5986.26      197.69          0.0  conventional  2015  Albany  "
      ]
     },
     "execution_count": 469,
     "metadata": {},
     "output_type": "execute_result"
    }
   ],
   "source": [
    "df.head()"
   ]
  },
  {
   "cell_type": "code",
   "execution_count": 470,
   "metadata": {},
   "outputs": [
    {
     "name": "stdout",
     "output_type": "stream",
     "text": [
      "<class 'pandas.core.frame.DataFrame'>\n",
      "RangeIndex: 1517 entries, 0 to 1516\n",
      "Data columns (total 13 columns):\n",
      " #   Column        Non-Null Count  Dtype  \n",
      "---  ------        --------------  -----  \n",
      " 0   Date          1517 non-null   object \n",
      " 1   AveragePrice  1517 non-null   float64\n",
      " 2   Total Volume  1517 non-null   float64\n",
      " 3   4046          1517 non-null   float64\n",
      " 4   4225          1517 non-null   float64\n",
      " 5   4770          1517 non-null   float64\n",
      " 6   Total Bags    1517 non-null   float64\n",
      " 7   Small Bags    1517 non-null   float64\n",
      " 8   Large Bags    1517 non-null   float64\n",
      " 9   XLarge Bags   1517 non-null   float64\n",
      " 10  type          1517 non-null   object \n",
      " 11  year          1517 non-null   int64  \n",
      " 12  region        1517 non-null   object \n",
      "dtypes: float64(9), int64(1), object(3)\n",
      "memory usage: 154.2+ KB\n"
     ]
    }
   ],
   "source": [
    "df.info()"
   ]
  },
  {
   "cell_type": "markdown",
   "metadata": {},
   "source": [
    "from the first view there are no null valuses. but there is date column so we will seprate the date column into 2 different column one is day and other is month and year is already present in our dataset"
   ]
  },
  {
   "cell_type": "code",
   "execution_count": 471,
   "metadata": {},
   "outputs": [],
   "source": [
    "df['Date']=pd.to_datetime(df['Date'])\n",
    "df['Month']=df['Date'].apply(lambda x:x.month)\n",
    "df['Day']=df['Date'].apply(lambda x:x.day)"
   ]
  },
  {
   "cell_type": "code",
   "execution_count": 472,
   "metadata": {},
   "outputs": [
    {
     "data": {
      "text/html": [
       "<div>\n",
       "<style scoped>\n",
       "    .dataframe tbody tr th:only-of-type {\n",
       "        vertical-align: middle;\n",
       "    }\n",
       "\n",
       "    .dataframe tbody tr th {\n",
       "        vertical-align: top;\n",
       "    }\n",
       "\n",
       "    .dataframe thead th {\n",
       "        text-align: right;\n",
       "    }\n",
       "</style>\n",
       "<table border=\"1\" class=\"dataframe\">\n",
       "  <thead>\n",
       "    <tr style=\"text-align: right;\">\n",
       "      <th></th>\n",
       "      <th>Date</th>\n",
       "      <th>AveragePrice</th>\n",
       "      <th>Total Volume</th>\n",
       "      <th>4046</th>\n",
       "      <th>4225</th>\n",
       "      <th>4770</th>\n",
       "      <th>Total Bags</th>\n",
       "      <th>Small Bags</th>\n",
       "      <th>Large Bags</th>\n",
       "      <th>XLarge Bags</th>\n",
       "      <th>type</th>\n",
       "      <th>year</th>\n",
       "      <th>region</th>\n",
       "      <th>Month</th>\n",
       "      <th>Day</th>\n",
       "    </tr>\n",
       "  </thead>\n",
       "  <tbody>\n",
       "    <tr>\n",
       "      <th>0</th>\n",
       "      <td>2015-12-27</td>\n",
       "      <td>1.33</td>\n",
       "      <td>64236.62</td>\n",
       "      <td>1036.74</td>\n",
       "      <td>54454.85</td>\n",
       "      <td>48.16</td>\n",
       "      <td>8696.87</td>\n",
       "      <td>8603.62</td>\n",
       "      <td>93.25</td>\n",
       "      <td>0.0</td>\n",
       "      <td>conventional</td>\n",
       "      <td>2015</td>\n",
       "      <td>Albany</td>\n",
       "      <td>12</td>\n",
       "      <td>27</td>\n",
       "    </tr>\n",
       "    <tr>\n",
       "      <th>1</th>\n",
       "      <td>2015-12-20</td>\n",
       "      <td>1.35</td>\n",
       "      <td>54876.98</td>\n",
       "      <td>674.28</td>\n",
       "      <td>44638.81</td>\n",
       "      <td>58.33</td>\n",
       "      <td>9505.56</td>\n",
       "      <td>9408.07</td>\n",
       "      <td>97.49</td>\n",
       "      <td>0.0</td>\n",
       "      <td>conventional</td>\n",
       "      <td>2015</td>\n",
       "      <td>Albany</td>\n",
       "      <td>12</td>\n",
       "      <td>20</td>\n",
       "    </tr>\n",
       "    <tr>\n",
       "      <th>2</th>\n",
       "      <td>2015-12-13</td>\n",
       "      <td>0.93</td>\n",
       "      <td>118220.22</td>\n",
       "      <td>794.70</td>\n",
       "      <td>109149.67</td>\n",
       "      <td>130.50</td>\n",
       "      <td>8145.35</td>\n",
       "      <td>8042.21</td>\n",
       "      <td>103.14</td>\n",
       "      <td>0.0</td>\n",
       "      <td>conventional</td>\n",
       "      <td>2015</td>\n",
       "      <td>Albany</td>\n",
       "      <td>12</td>\n",
       "      <td>13</td>\n",
       "    </tr>\n",
       "    <tr>\n",
       "      <th>3</th>\n",
       "      <td>2015-06-12</td>\n",
       "      <td>1.08</td>\n",
       "      <td>78992.15</td>\n",
       "      <td>1132.00</td>\n",
       "      <td>71976.41</td>\n",
       "      <td>72.58</td>\n",
       "      <td>5811.16</td>\n",
       "      <td>5677.40</td>\n",
       "      <td>133.76</td>\n",
       "      <td>0.0</td>\n",
       "      <td>conventional</td>\n",
       "      <td>2015</td>\n",
       "      <td>Albany</td>\n",
       "      <td>6</td>\n",
       "      <td>12</td>\n",
       "    </tr>\n",
       "    <tr>\n",
       "      <th>4</th>\n",
       "      <td>2015-11-29</td>\n",
       "      <td>1.28</td>\n",
       "      <td>51039.60</td>\n",
       "      <td>941.48</td>\n",
       "      <td>43838.39</td>\n",
       "      <td>75.78</td>\n",
       "      <td>6183.95</td>\n",
       "      <td>5986.26</td>\n",
       "      <td>197.69</td>\n",
       "      <td>0.0</td>\n",
       "      <td>conventional</td>\n",
       "      <td>2015</td>\n",
       "      <td>Albany</td>\n",
       "      <td>11</td>\n",
       "      <td>29</td>\n",
       "    </tr>\n",
       "  </tbody>\n",
       "</table>\n",
       "</div>"
      ],
      "text/plain": [
       "        Date  AveragePrice  Total Volume     4046       4225    4770  \\\n",
       "0 2015-12-27          1.33      64236.62  1036.74   54454.85   48.16   \n",
       "1 2015-12-20          1.35      54876.98   674.28   44638.81   58.33   \n",
       "2 2015-12-13          0.93     118220.22   794.70  109149.67  130.50   \n",
       "3 2015-06-12          1.08      78992.15  1132.00   71976.41   72.58   \n",
       "4 2015-11-29          1.28      51039.60   941.48   43838.39   75.78   \n",
       "\n",
       "   Total Bags  Small Bags  Large Bags  XLarge Bags          type  year  \\\n",
       "0     8696.87     8603.62       93.25          0.0  conventional  2015   \n",
       "1     9505.56     9408.07       97.49          0.0  conventional  2015   \n",
       "2     8145.35     8042.21      103.14          0.0  conventional  2015   \n",
       "3     5811.16     5677.40      133.76          0.0  conventional  2015   \n",
       "4     6183.95     5986.26      197.69          0.0  conventional  2015   \n",
       "\n",
       "   region  Month  Day  \n",
       "0  Albany     12   27  \n",
       "1  Albany     12   20  \n",
       "2  Albany     12   13  \n",
       "3  Albany      6   12  \n",
       "4  Albany     11   29  "
      ]
     },
     "execution_count": 472,
     "metadata": {},
     "output_type": "execute_result"
    }
   ],
   "source": [
    "df.head()"
   ]
  },
  {
   "cell_type": "code",
   "execution_count": 473,
   "metadata": {
    "scrolled": true
   },
   "outputs": [
    {
     "data": {
      "text/plain": [
       "<matplotlib.axes._subplots.AxesSubplot at 0x15546929e20>"
      ]
     },
     "execution_count": 473,
     "metadata": {},
     "output_type": "execute_result"
    },
    {
     "data": {
      "image/png": "[encoded data removed]",
      "text/plain": [
       "<Figure size 432x288 with 2 Axes>"
      ]
     },
     "metadata": {
      "needs_background": "light"
     },
     "output_type": "display_data"
    }
   ],
   "source": [
    "sns.heatmap(df.isnull())"
   ]
  },
  {
   "cell_type": "markdown",
   "metadata": {},
   "source": [
    "I am checking the null values, as find there are no null values in the data set"
   ]
  },
  {
   "cell_type": "markdown",
   "metadata": {},
   "source": [
    "DATA VISULALIZATION"
   ]
  },
  {
   "cell_type": "markdown",
   "metadata": {},
   "source": [
    "Bar Plot"
   ]
  },
  {
   "cell_type": "code",
   "execution_count": 474,
   "metadata": {},
   "outputs": [
    {
     "data": {
      "text/plain": [
       "<matplotlib.axes._subplots.AxesSubplot at 0x1554690cfd0>"
      ]
     },
     "execution_count": 474,
     "metadata": {},
     "output_type": "execute_result"
    },
    {
     "data": {
      "image/png": "[encoded data removed]",
      "text/plain": [
       "<Figure size 432x288 with 1 Axes>"
      ]
     },
     "metadata": {
      "needs_background": "light"
     },
     "output_type": "display_data"
    }
   ],
   "source": [
    "sns.barplot(x=\"year\",y=\"AveragePrice\",data=df)"
   ]
  },
  {
   "cell_type": "code",
   "execution_count": 475,
   "metadata": {},
   "outputs": [
    {
     "data": {
      "text/plain": [
       "<matplotlib.axes._subplots.AxesSubplot at 0x15546a62190>"
      ]
     },
     "execution_count": 475,
     "metadata": {},
     "output_type": "execute_result"
    },
    {
     "data": {
      "image/png": "[encoded data removed]",
      "text/plain": [
       "<Figure size 432x288 with 1 Axes>"
      ]
     },
     "metadata": {
      "needs_background": "light"
     },
     "output_type": "display_data"
    }
   ],
   "source": [
    "sns.barplot(x=\"Month\",y=\"AveragePrice\",data=df)"
   ]
  },
  {
   "cell_type": "code",
   "execution_count": 476,
   "metadata": {},
   "outputs": [
    {
     "data": {
      "text/plain": [
       "<matplotlib.axes._subplots.AxesSubplot at 0x15546dfcf10>"
      ]
     },
     "execution_count": 476,
     "metadata": {},
     "output_type": "execute_result"
    },
    {
     "data": {
      "image/png": "[encoded data removed]",
      "text/plain": [
       "<Figure size 432x288 with 1 Axes>"
      ]
     },
     "metadata": {
      "needs_background": "light"
     },
     "output_type": "display_data"
    }
   ],
   "source": [
    "sns.barplot(x=\"4046\",y=\"AveragePrice\",data=df)"
   ]
  },
  {
   "cell_type": "code",
   "execution_count": 477,
   "metadata": {},
   "outputs": [
    {
     "data": {
      "image/png": "[encoded data removed]",
      "text/plain": [
       "<Figure size 1152x720 with 1 Axes>"
      ]
     },
     "metadata": {
      "needs_background": "light"
     },
     "output_type": "display_data"
    }
   ],
   "source": [
    "plt.figure(figsize=(16,10))\n",
    "sns.lineplot(x=\"year\",y=\"AveragePrice\",hue='type',data=df)\n",
    "plt.show()"
   ]
  },
  {
   "cell_type": "code",
   "execution_count": 478,
   "metadata": {},
   "outputs": [
    {
     "data": {
      "text/plain": [
       "array([[<matplotlib.axes._subplots.AxesSubplot object at 0x00000155510565E0>,\n",
       "        <matplotlib.axes._subplots.AxesSubplot object at 0x00000155511CF3D0>,\n",
       "        <matplotlib.axes._subplots.AxesSubplot object at 0x00000155511E5A60>,\n",
       "        <matplotlib.axes._subplots.AxesSubplot object at 0x0000015551213220>],\n",
       "       [<matplotlib.axes._subplots.AxesSubplot object at 0x00000155511829A0>,\n",
       "        <matplotlib.axes._subplots.AxesSubplot object at 0x00000155511BA0A0>,\n",
       "        <matplotlib.axes._subplots.AxesSubplot object at 0x00000155511BA190>,\n",
       "        <matplotlib.axes._subplots.AxesSubplot object at 0x00000155510E1970>],\n",
       "       [<matplotlib.axes._subplots.AxesSubplot object at 0x000001555116B820>,\n",
       "        <matplotlib.axes._subplots.AxesSubplot object at 0x0000015551110FD0>,\n",
       "        <matplotlib.axes._subplots.AxesSubplot object at 0x0000015551139760>,\n",
       "        <matplotlib.axes._subplots.AxesSubplot object at 0x000001555125CEE0>],\n",
       "       [<matplotlib.axes._subplots.AxesSubplot object at 0x00000155512915E0>,\n",
       "        <matplotlib.axes._subplots.AxesSubplot object at 0x00000155512AEF10>,\n",
       "        <matplotlib.axes._subplots.AxesSubplot object at 0x00000155512E46D0>,\n",
       "        <matplotlib.axes._subplots.AxesSubplot object at 0x000001555130EE50>]],\n",
       "      dtype=object)"
      ]
     },
     "execution_count": 478,
     "metadata": {},
     "output_type": "execute_result"
    },
    {
     "data": {
      "image/png": "[encoded data removed]",
      "text/plain": [
       "<Figure size 1440x1440 with 16 Axes>"
      ]
     },
     "metadata": {
      "needs_background": "light"
     },
     "output_type": "display_data"
    }
   ],
   "source": [
    "df.hist(figsize=(20,20),grid=True,layout=(4,4),bins=30)"
   ]
  },
  {
   "cell_type": "code",
   "execution_count": 479,
   "metadata": {},
   "outputs": [
    {
     "data": {
      "text/plain": [
       "<matplotlib.axes._subplots.AxesSubplot at 0x1555320c9a0>"
      ]
     },
     "execution_count": 479,
     "metadata": {},
     "output_type": "execute_result"
    },
    {
     "data": {
      "image/png": "[encoded data removed]",
      "text/plain": [
       "<Figure size 864x432 with 2 Axes>"
      ]
     },
     "metadata": {
      "needs_background": "light"
     },
     "output_type": "display_data"
    }
   ],
   "source": [
    "plt.figure(figsize=(12,6))\n",
    "sns.heatmap(df.corr(),cmap='coolwarm',annot=True)"
   ]
  },
  {
   "cell_type": "code",
   "execution_count": 480,
   "metadata": {},
   "outputs": [
    {
     "data": {
      "text/plain": [
       "1"
      ]
     },
     "execution_count": 480,
     "metadata": {},
     "output_type": "execute_result"
    }
   ],
   "source": [
    "df['type'].nunique()"
   ]
  },
  {
   "cell_type": "code",
   "execution_count": 481,
   "metadata": {},
   "outputs": [
    {
     "data": {
      "text/plain": [
       "51"
      ]
     },
     "execution_count": 481,
     "metadata": {},
     "output_type": "execute_result"
    }
   ],
   "source": [
    "df['region'].nunique()"
   ]
  },
  {
   "cell_type": "markdown",
   "metadata": {},
   "source": [
    "I will drop region and date column as i have 3 seprate column and for region column will "
   ]
  },
  {
   "cell_type": "code",
   "execution_count": 482,
   "metadata": {},
   "outputs": [],
   "source": [
    "df.drop(['region','Date'],axis=1,inplace=True)"
   ]
  },
  {
   "cell_type": "code",
   "execution_count": 483,
   "metadata": {},
   "outputs": [
    {
     "data": {
      "text/html": [
       "<div>\n",
       "<style scoped>\n",
       "    .dataframe tbody tr th:only-of-type {\n",
       "        vertical-align: middle;\n",
       "    }\n",
       "\n",
       "    .dataframe tbody tr th {\n",
       "        vertical-align: top;\n",
       "    }\n",
       "\n",
       "    .dataframe thead th {\n",
       "        text-align: right;\n",
       "    }\n",
       "</style>\n",
       "<table border=\"1\" class=\"dataframe\">\n",
       "  <thead>\n",
       "    <tr style=\"text-align: right;\">\n",
       "      <th></th>\n",
       "      <th>AveragePrice</th>\n",
       "      <th>Total Volume</th>\n",
       "      <th>4046</th>\n",
       "      <th>4225</th>\n",
       "      <th>4770</th>\n",
       "      <th>Total Bags</th>\n",
       "      <th>Small Bags</th>\n",
       "      <th>Large Bags</th>\n",
       "      <th>XLarge Bags</th>\n",
       "      <th>type</th>\n",
       "      <th>year</th>\n",
       "      <th>Month</th>\n",
       "      <th>Day</th>\n",
       "    </tr>\n",
       "  </thead>\n",
       "  <tbody>\n",
       "    <tr>\n",
       "      <th>0</th>\n",
       "      <td>1.33</td>\n",
       "      <td>64236.62</td>\n",
       "      <td>1036.74</td>\n",
       "      <td>54454.85</td>\n",
       "      <td>48.16</td>\n",
       "      <td>8696.87</td>\n",
       "      <td>8603.62</td>\n",
       "      <td>93.25</td>\n",
       "      <td>0.0</td>\n",
       "      <td>conventional</td>\n",
       "      <td>2015</td>\n",
       "      <td>12</td>\n",
       "      <td>27</td>\n",
       "    </tr>\n",
       "    <tr>\n",
       "      <th>1</th>\n",
       "      <td>1.35</td>\n",
       "      <td>54876.98</td>\n",
       "      <td>674.28</td>\n",
       "      <td>44638.81</td>\n",
       "      <td>58.33</td>\n",
       "      <td>9505.56</td>\n",
       "      <td>9408.07</td>\n",
       "      <td>97.49</td>\n",
       "      <td>0.0</td>\n",
       "      <td>conventional</td>\n",
       "      <td>2015</td>\n",
       "      <td>12</td>\n",
       "      <td>20</td>\n",
       "    </tr>\n",
       "    <tr>\n",
       "      <th>2</th>\n",
       "      <td>0.93</td>\n",
       "      <td>118220.22</td>\n",
       "      <td>794.70</td>\n",
       "      <td>109149.67</td>\n",
       "      <td>130.50</td>\n",
       "      <td>8145.35</td>\n",
       "      <td>8042.21</td>\n",
       "      <td>103.14</td>\n",
       "      <td>0.0</td>\n",
       "      <td>conventional</td>\n",
       "      <td>2015</td>\n",
       "      <td>12</td>\n",
       "      <td>13</td>\n",
       "    </tr>\n",
       "    <tr>\n",
       "      <th>3</th>\n",
       "      <td>1.08</td>\n",
       "      <td>78992.15</td>\n",
       "      <td>1132.00</td>\n",
       "      <td>71976.41</td>\n",
       "      <td>72.58</td>\n",
       "      <td>5811.16</td>\n",
       "      <td>5677.40</td>\n",
       "      <td>133.76</td>\n",
       "      <td>0.0</td>\n",
       "      <td>conventional</td>\n",
       "      <td>2015</td>\n",
       "      <td>6</td>\n",
       "      <td>12</td>\n",
       "    </tr>\n",
       "    <tr>\n",
       "      <th>4</th>\n",
       "      <td>1.28</td>\n",
       "      <td>51039.60</td>\n",
       "      <td>941.48</td>\n",
       "      <td>43838.39</td>\n",
       "      <td>75.78</td>\n",
       "      <td>6183.95</td>\n",
       "      <td>5986.26</td>\n",
       "      <td>197.69</td>\n",
       "      <td>0.0</td>\n",
       "      <td>conventional</td>\n",
       "      <td>2015</td>\n",
       "      <td>11</td>\n",
       "      <td>29</td>\n",
       "    </tr>\n",
       "  </tbody>\n",
       "</table>\n",
       "</div>"
      ],
      "text/plain": [
       "   AveragePrice  Total Volume     4046       4225    4770  Total Bags  \\\n",
       "0          1.33      64236.62  1036.74   54454.85   48.16     8696.87   \n",
       "1          1.35      54876.98   674.28   44638.81   58.33     9505.56   \n",
       "2          0.93     118220.22   794.70  109149.67  130.50     8145.35   \n",
       "3          1.08      78992.15  1132.00   71976.41   72.58     5811.16   \n",
       "4          1.28      51039.60   941.48   43838.39   75.78     6183.95   \n",
       "\n",
       "   Small Bags  Large Bags  XLarge Bags          type  year  Month  Day  \n",
       "0     8603.62       93.25          0.0  conventional  2015     12   27  \n",
       "1     9408.07       97.49          0.0  conventional  2015     12   20  \n",
       "2     8042.21      103.14          0.0  conventional  2015     12   13  \n",
       "3     5677.40      133.76          0.0  conventional  2015      6   12  \n",
       "4     5986.26      197.69          0.0  conventional  2015     11   29  "
      ]
     },
     "execution_count": 483,
     "metadata": {},
     "output_type": "execute_result"
    }
   ],
   "source": [
    "df.head()"
   ]
  },
  {
   "cell_type": "code",
   "execution_count": 484,
   "metadata": {},
   "outputs": [
    {
     "data": {
      "text/plain": [
       "AveragePrice   -0.109444\n",
       "Total Volume    6.200138\n",
       "4046            6.051830\n",
       "4225            6.394926\n",
       "4770            5.405164\n",
       "Total Bags      5.366378\n",
       "Small Bags      5.355185\n",
       "Large Bags      5.144495\n",
       "XLarge Bags     5.775077\n",
       "year            1.828332\n",
       "Month           0.101439\n",
       "Day             0.041303\n",
       "dtype: float64"
      ]
     },
     "execution_count": 484,
     "metadata": {},
     "output_type": "execute_result"
    }
   ],
   "source": [
    "df.skew()"
   ]
  },
  {
   "cell_type": "markdown",
   "metadata": {},
   "source": [
    "I will perform label encoding"
   ]
  },
  {
   "cell_type": "code",
   "execution_count": 485,
   "metadata": {},
   "outputs": [],
   "source": [
    "from sklearn.preprocessing import LabelEncoder"
   ]
  },
  {
   "cell_type": "code",
   "execution_count": 486,
   "metadata": {},
   "outputs": [],
   "source": [
    "le = LabelEncoder()\n",
    "df['type']=le.fit_transform(df['type'])"
   ]
  },
  {
   "cell_type": "code",
   "execution_count": 487,
   "metadata": {
    "scrolled": true
   },
   "outputs": [
    {
     "data": {
      "text/plain": [
       "AveragePrice    float64\n",
       "Total Volume    float64\n",
       "4046            float64\n",
       "4225            float64\n",
       "4770            float64\n",
       "Total Bags      float64\n",
       "Small Bags      float64\n",
       "Large Bags      float64\n",
       "XLarge Bags     float64\n",
       "type              int32\n",
       "year              int64\n",
       "Month             int64\n",
       "Day               int64\n",
       "dtype: object"
      ]
     },
     "execution_count": 487,
     "metadata": {},
     "output_type": "execute_result"
    }
   ],
   "source": [
    "df.dtypes"
   ]
  },
  {
   "cell_type": "code",
   "execution_count": 488,
   "metadata": {},
   "outputs": [
    {
     "data": {
      "text/html": [
       "<div>\n",
       "<style scoped>\n",
       "    .dataframe tbody tr th:only-of-type {\n",
       "        vertical-align: middle;\n",
       "    }\n",
       "\n",
       "    .dataframe tbody tr th {\n",
       "        vertical-align: top;\n",
       "    }\n",
       "\n",
       "    .dataframe thead th {\n",
       "        text-align: right;\n",
       "    }\n",
       "</style>\n",
       "<table border=\"1\" class=\"dataframe\">\n",
       "  <thead>\n",
       "    <tr style=\"text-align: right;\">\n",
       "      <th></th>\n",
       "      <th>AveragePrice</th>\n",
       "      <th>Total Volume</th>\n",
       "      <th>4046</th>\n",
       "      <th>4225</th>\n",
       "      <th>4770</th>\n",
       "      <th>Total Bags</th>\n",
       "      <th>Small Bags</th>\n",
       "      <th>Large Bags</th>\n",
       "      <th>XLarge Bags</th>\n",
       "      <th>type</th>\n",
       "      <th>year</th>\n",
       "      <th>Month</th>\n",
       "      <th>Day</th>\n",
       "    </tr>\n",
       "  </thead>\n",
       "  <tbody>\n",
       "    <tr>\n",
       "      <th>0</th>\n",
       "      <td>1.33</td>\n",
       "      <td>64236.62</td>\n",
       "      <td>1036.74</td>\n",
       "      <td>54454.85</td>\n",
       "      <td>48.16</td>\n",
       "      <td>8696.87</td>\n",
       "      <td>8603.62</td>\n",
       "      <td>93.25</td>\n",
       "      <td>0.0</td>\n",
       "      <td>0</td>\n",
       "      <td>2015</td>\n",
       "      <td>12</td>\n",
       "      <td>27</td>\n",
       "    </tr>\n",
       "    <tr>\n",
       "      <th>1</th>\n",
       "      <td>1.35</td>\n",
       "      <td>54876.98</td>\n",
       "      <td>674.28</td>\n",
       "      <td>44638.81</td>\n",
       "      <td>58.33</td>\n",
       "      <td>9505.56</td>\n",
       "      <td>9408.07</td>\n",
       "      <td>97.49</td>\n",
       "      <td>0.0</td>\n",
       "      <td>0</td>\n",
       "      <td>2015</td>\n",
       "      <td>12</td>\n",
       "      <td>20</td>\n",
       "    </tr>\n",
       "    <tr>\n",
       "      <th>2</th>\n",
       "      <td>0.93</td>\n",
       "      <td>118220.22</td>\n",
       "      <td>794.70</td>\n",
       "      <td>109149.67</td>\n",
       "      <td>130.50</td>\n",
       "      <td>8145.35</td>\n",
       "      <td>8042.21</td>\n",
       "      <td>103.14</td>\n",
       "      <td>0.0</td>\n",
       "      <td>0</td>\n",
       "      <td>2015</td>\n",
       "      <td>12</td>\n",
       "      <td>13</td>\n",
       "    </tr>\n",
       "    <tr>\n",
       "      <th>3</th>\n",
       "      <td>1.08</td>\n",
       "      <td>78992.15</td>\n",
       "      <td>1132.00</td>\n",
       "      <td>71976.41</td>\n",
       "      <td>72.58</td>\n",
       "      <td>5811.16</td>\n",
       "      <td>5677.40</td>\n",
       "      <td>133.76</td>\n",
       "      <td>0.0</td>\n",
       "      <td>0</td>\n",
       "      <td>2015</td>\n",
       "      <td>6</td>\n",
       "      <td>12</td>\n",
       "    </tr>\n",
       "    <tr>\n",
       "      <th>4</th>\n",
       "      <td>1.28</td>\n",
       "      <td>51039.60</td>\n",
       "      <td>941.48</td>\n",
       "      <td>43838.39</td>\n",
       "      <td>75.78</td>\n",
       "      <td>6183.95</td>\n",
       "      <td>5986.26</td>\n",
       "      <td>197.69</td>\n",
       "      <td>0.0</td>\n",
       "      <td>0</td>\n",
       "      <td>2015</td>\n",
       "      <td>11</td>\n",
       "      <td>29</td>\n",
       "    </tr>\n",
       "  </tbody>\n",
       "</table>\n",
       "</div>"
      ],
      "text/plain": [
       "   AveragePrice  Total Volume     4046       4225    4770  Total Bags  \\\n",
       "0          1.33      64236.62  1036.74   54454.85   48.16     8696.87   \n",
       "1          1.35      54876.98   674.28   44638.81   58.33     9505.56   \n",
       "2          0.93     118220.22   794.70  109149.67  130.50     8145.35   \n",
       "3          1.08      78992.15  1132.00   71976.41   72.58     5811.16   \n",
       "4          1.28      51039.60   941.48   43838.39   75.78     6183.95   \n",
       "\n",
       "   Small Bags  Large Bags  XLarge Bags  type  year  Month  Day  \n",
       "0     8603.62       93.25          0.0     0  2015     12   27  \n",
       "1     9408.07       97.49          0.0     0  2015     12   20  \n",
       "2     8042.21      103.14          0.0     0  2015     12   13  \n",
       "3     5677.40      133.76          0.0     0  2015      6   12  \n",
       "4     5986.26      197.69          0.0     0  2015     11   29  "
      ]
     },
     "execution_count": 488,
     "metadata": {},
     "output_type": "execute_result"
    }
   ],
   "source": [
    "df.head()"
   ]
  },
  {
   "cell_type": "code",
   "execution_count": 489,
   "metadata": {},
   "outputs": [
    {
     "data": {
      "image/png": "[encoded data removed]",
      "text/plain": [
       "<Figure size 2160x6480 with 13 Axes>"
      ]
     },
     "metadata": {
      "needs_background": "light"
     },
     "output_type": "display_data"
    }
   ],
   "source": [
    "collist = df.columns.values\n",
    "ncol=30\n",
    "nrows=14\n",
    "plt.figure(figsize=(ncol,3*ncol))\n",
    "for i in range (0,len(collist)):\n",
    "    plt.subplot(nrows,ncol,i+1)\n",
    "    sns.boxplot(df[collist[i]],color='green',orient='v')\n",
    "    plt.tight_layout()"
   ]
  },
  {
   "cell_type": "code",
   "execution_count": 490,
   "metadata": {},
   "outputs": [],
   "source": [
    "df_x=df.drop(columns=['AveragePrice'])\n",
    "y=df[['AveragePrice']]"
   ]
  },
  {
   "cell_type": "code",
   "execution_count": 491,
   "metadata": {},
   "outputs": [],
   "source": [
    "def iqr_cap(df,cols,factor):\n",
    "    \n",
    "    for col in cols:\n",
    "        \n",
    "        q1 = df[col].quantile(0.25)\n",
    "        q3 = df[col].quantile(0.75)\n",
    "        \n",
    "        iqr = q3-q1\n",
    "        \n",
    "        upper_limit = q3 +(factor*iqr)\n",
    "        lower_limit = q1 -(factor*iqr)\n",
    "        \n",
    "        df[col]=np.where(df[col]>upper_limit,upper_limit,np.where(df[col]<lower_limit,lower_limit,df[col]))"
   ]
  },
  {
   "cell_type": "code",
   "execution_count": 492,
   "metadata": {},
   "outputs": [],
   "source": [
    "iqr_cap(df_x,df_x,1.5)"
   ]
  },
  {
   "cell_type": "code",
   "execution_count": 493,
   "metadata": {},
   "outputs": [
    {
     "data": {
      "text/plain": [
       "Total Volume    1.176935\n",
       "4046            1.212500\n",
       "4225            1.220883\n",
       "4770            1.170573\n",
       "Total Bags      1.104160\n",
       "Small Bags      1.166098\n",
       "Large Bags      1.230728\n",
       "XLarge Bags     1.178417\n",
       "type            0.000000\n",
       "year            0.000000\n",
       "Month           0.101439\n",
       "Day             0.041303\n",
       "dtype: float64"
      ]
     },
     "execution_count": 493,
     "metadata": {},
     "output_type": "execute_result"
    }
   ],
   "source": [
    "df_x.skew()"
   ]
  },
  {
   "cell_type": "code",
   "execution_count": 494,
   "metadata": {},
   "outputs": [
    {
     "data": {
      "text/plain": [
       "Total Volume    0.476675\n",
       "4046            0.381440\n",
       "4225            0.502072\n",
       "4770            0.273031\n",
       "Total Bags      0.383600\n",
       "Small Bags      0.477526\n",
       "Large Bags      0.305380\n",
       "XLarge Bags     0.769899\n",
       "type            0.000000\n",
       "year            0.000000\n",
       "Month           0.101439\n",
       "Day             0.041303\n",
       "dtype: float64"
      ]
     },
     "execution_count": 494,
     "metadata": {},
     "output_type": "execute_result"
    }
   ],
   "source": [
    "for i in df_x.columns:\n",
    "    if df_x[i].skew()>0.5:\n",
    "        df_x[i]=np.cbrt(df_x[i])\n",
    "    if df_x[i].skew()<-0.5:\n",
    "        df_x[i]=np.cbrt(df_x[i])\n",
    "        \n",
    "df_x.skew()"
   ]
  },
  {
   "cell_type": "code",
   "execution_count": 495,
   "metadata": {},
   "outputs": [],
   "source": [
    "lr=LinearRegression()\n",
    "from sklearn.metrics import r2_score"
   ]
  },
  {
   "cell_type": "code",
   "execution_count": 496,
   "metadata": {},
   "outputs": [
    {
     "name": "stdout",
     "output_type": "stream",
     "text": [
      "At Random State 0 the traning accuracy is :- 0.43266648090131743\n",
      "\n",
      "\n",
      "At Random State 1 the traning accuracy is :- 0.39898660291068144\n",
      "\n",
      "\n",
      "At Random State 2 the traning accuracy is :- 0.4028515910771555\n",
      "\n",
      "\n",
      "At Random State 3 the traning accuracy is :- 0.44204496294928997\n",
      "\n",
      "\n",
      "At Random State 4 the traning accuracy is :- 0.45365403138406557\n",
      "\n",
      "\n",
      "At Random State 5 the traning accuracy is :- 0.43063695806604585\n",
      "\n",
      "\n",
      "At Random State 6 the traning accuracy is :- 0.42831191261358137\n",
      "\n",
      "\n",
      "At Random State 7 the traning accuracy is :- 0.436930280010419\n",
      "\n",
      "\n",
      "At Random State 8 the traning accuracy is :- 0.4076928615987855\n",
      "\n",
      "\n",
      "At Random State 9 the traning accuracy is :- 0.4237185130269645\n",
      "\n",
      "\n",
      "At Random State 10 the traning accuracy is :- 0.41921555344178096\n",
      "\n",
      "\n",
      "At Random State 11 the traning accuracy is :- 0.4201874995247912\n",
      "\n",
      "\n",
      "At Random State 12 the traning accuracy is :- 0.4172670663694912\n",
      "\n",
      "\n",
      "At Random State 13 the traning accuracy is :- 0.4337975558265129\n",
      "\n",
      "\n",
      "At Random State 14 the traning accuracy is :- 0.44353742627647785\n",
      "\n",
      "\n",
      "At Random State 15 the traning accuracy is :- 0.417365887533271\n",
      "\n",
      "\n",
      "At Random State 16 the traning accuracy is :- 0.4166402047073795\n",
      "\n",
      "\n",
      "At Random State 17 the traning accuracy is :- 0.4189800022971638\n",
      "\n",
      "\n",
      "At Random State 18 the traning accuracy is :- 0.41046927879928974\n",
      "\n",
      "\n",
      "At Random State 19 the traning accuracy is :- 0.42740931900026835\n",
      "\n",
      "\n",
      "At Random State 20 the traning accuracy is :- 0.41513997765298727\n",
      "\n",
      "\n",
      "At Random State 21 the traning accuracy is :- 0.43121365418090607\n",
      "\n",
      "\n",
      "At Random State 22 the traning accuracy is :- 0.4097978396908617\n",
      "\n",
      "\n",
      "At Random State 23 the traning accuracy is :- 0.42641728460214057\n",
      "\n",
      "\n",
      "At Random State 24 the traning accuracy is :- 0.4282822577526567\n",
      "\n",
      "\n",
      "At Random State 25 the traning accuracy is :- 0.409980604979968\n",
      "\n",
      "\n",
      "At Random State 26 the traning accuracy is :- 0.42503628652627645\n",
      "\n",
      "\n",
      "At Random State 27 the traning accuracy is :- 0.41325990977762894\n",
      "\n",
      "\n",
      "At Random State 28 the traning accuracy is :- 0.41227390087394866\n",
      "\n",
      "\n",
      "At Random State 29 the traning accuracy is :- 0.4192836706415065\n",
      "\n",
      "\n",
      "At Random State 30 the traning accuracy is :- 0.39899131842524893\n",
      "\n",
      "\n",
      "At Random State 31 the traning accuracy is :- 0.4392675878746203\n",
      "\n",
      "\n",
      "At Random State 32 the traning accuracy is :- 0.4232298359368418\n",
      "\n",
      "\n",
      "At Random State 33 the traning accuracy is :- 0.4409754478066904\n",
      "\n",
      "\n",
      "At Random State 34 the traning accuracy is :- 0.43698063978813373\n",
      "\n",
      "\n",
      "At Random State 35 the traning accuracy is :- 0.42926939555372123\n",
      "\n",
      "\n",
      "At Random State 36 the traning accuracy is :- 0.4160810739588091\n",
      "\n",
      "\n",
      "At Random State 37 the traning accuracy is :- 0.4313360193787582\n",
      "\n",
      "\n",
      "At Random State 38 the traning accuracy is :- 0.4080348521974143\n",
      "\n",
      "\n",
      "At Random State 39 the traning accuracy is :- 0.41314824100911973\n",
      "\n",
      "\n",
      "At Random State 40 the traning accuracy is :- 0.41265354194116377\n",
      "\n",
      "\n",
      "At Random State 41 the traning accuracy is :- 0.4347683941997774\n",
      "\n",
      "\n",
      "At Random State 42 the traning accuracy is :- 0.4210736546392655\n",
      "\n",
      "\n",
      "At Random State 43 the traning accuracy is :- 0.41093310598486044\n",
      "\n",
      "\n",
      "At Random State 44 the traning accuracy is :- 0.43190656010132444\n",
      "\n",
      "\n",
      "At Random State 45 the traning accuracy is :- 0.42878559912728154\n",
      "\n",
      "\n",
      "At Random State 46 the traning accuracy is :- 0.42482598519598125\n",
      "\n",
      "\n",
      "At Random State 47 the traning accuracy is :- 0.41468679833375777\n",
      "\n",
      "\n",
      "At Random State 48 the traning accuracy is :- 0.4275095107917455\n",
      "\n",
      "\n",
      "At Random State 49 the traning accuracy is :- 0.43074651348855075\n",
      "\n",
      "\n",
      "At Random State 50 the traning accuracy is :- 0.43761618260574\n",
      "\n",
      "\n",
      "At Random State 51 the traning accuracy is :- 0.42331012205272234\n",
      "\n",
      "\n",
      "At Random State 52 the traning accuracy is :- 0.4178780264163816\n",
      "\n",
      "\n",
      "At Random State 53 the traning accuracy is :- 0.4112885016725343\n",
      "\n",
      "\n",
      "At Random State 54 the traning accuracy is :- 0.4150984975289985\n",
      "\n",
      "\n",
      "At Random State 55 the traning accuracy is :- 0.40976743546787864\n",
      "\n",
      "\n",
      "At Random State 56 the traning accuracy is :- 0.4478320480298438\n",
      "\n",
      "\n",
      "At Random State 57 the traning accuracy is :- 0.43221191788447544\n",
      "\n",
      "\n",
      "At Random State 58 the traning accuracy is :- 0.43602392794002487\n",
      "\n",
      "\n",
      "At Random State 59 the traning accuracy is :- 0.42335118645399594\n",
      "\n",
      "\n",
      "At Random State 60 the traning accuracy is :- 0.41389306134405446\n",
      "\n",
      "\n",
      "At Random State 61 the traning accuracy is :- 0.42596456403195115\n",
      "\n",
      "\n",
      "At Random State 62 the traning accuracy is :- 0.4425484092168026\n",
      "\n",
      "\n",
      "At Random State 63 the traning accuracy is :- 0.43070118855099826\n",
      "\n",
      "\n",
      "At Random State 64 the traning accuracy is :- 0.4220210787495078\n",
      "\n",
      "\n",
      "At Random State 65 the traning accuracy is :- 0.43975596276581774\n",
      "\n",
      "\n",
      "At Random State 66 the traning accuracy is :- 0.41895034271829035\n",
      "\n",
      "\n",
      "At Random State 67 the traning accuracy is :- 0.42461166202099154\n",
      "\n",
      "\n",
      "At Random State 68 the traning accuracy is :- 0.4093976911324677\n",
      "\n",
      "\n",
      "At Random State 69 the traning accuracy is :- 0.43215318045675233\n",
      "\n",
      "\n",
      "At Random State 70 the traning accuracy is :- 0.4238234967896771\n",
      "\n",
      "\n",
      "At Random State 71 the traning accuracy is :- 0.42060333098759173\n",
      "\n",
      "\n",
      "At Random State 72 the traning accuracy is :- 0.44065087133429925\n",
      "\n",
      "\n",
      "At Random State 73 the traning accuracy is :- 0.4061537521164379\n",
      "\n",
      "\n",
      "At Random State 74 the traning accuracy is :- 0.4122735969249497\n",
      "\n",
      "\n",
      "At Random State 75 the traning accuracy is :- 0.4194369351894185\n",
      "\n",
      "\n",
      "At Random State 76 the traning accuracy is :- 0.42333966593066685\n",
      "\n",
      "\n",
      "At Random State 77 the traning accuracy is :- 0.43371153757962044\n",
      "\n",
      "\n",
      "At Random State 78 the traning accuracy is :- 0.42600745122596084\n",
      "\n",
      "\n",
      "At Random State 79 the traning accuracy is :- 0.4258414238217284\n",
      "\n",
      "\n",
      "At Random State 80 the traning accuracy is :- 0.4197108949365368\n",
      "\n",
      "\n",
      "At Random State 81 the traning accuracy is :- 0.4166811105341073\n",
      "\n",
      "\n",
      "At Random State 82 the traning accuracy is :- 0.4022619042517984\n",
      "\n",
      "\n",
      "At Random State 83 the traning accuracy is :- 0.4388209683058142\n",
      "\n",
      "\n",
      "At Random State 84 the traning accuracy is :- 0.41156173293152265\n",
      "\n",
      "\n",
      "At Random State 85 the traning accuracy is :- 0.41527188279964133\n",
      "\n",
      "\n",
      "At Random State 86 the traning accuracy is :- 0.4380027422634759\n",
      "\n",
      "\n",
      "At Random State 87 the traning accuracy is :- 0.41071901894778085\n",
      "\n",
      "\n",
      "At Random State 88 the traning accuracy is :- 0.4311043136719769\n",
      "\n",
      "\n",
      "At Random State 89 the traning accuracy is :- 0.3984304380033161\n",
      "\n",
      "\n",
      "At Random State 90 the traning accuracy is :- 0.4454140755580527\n",
      "\n",
      "\n",
      "At Random State 91 the traning accuracy is :- 0.4202701447604844\n",
      "\n",
      "\n",
      "At Random State 92 the traning accuracy is :- 0.40469646512006596\n",
      "\n",
      "\n",
      "At Random State 93 the traning accuracy is :- 0.4140415001286577\n",
      "\n",
      "\n",
      "At Random State 94 the traning accuracy is :- 0.41853717516931876\n",
      "\n",
      "\n",
      "At Random State 95 the traning accuracy is :- 0.4092005923759364\n",
      "\n",
      "\n",
      "At Random State 96 the traning accuracy is :- 0.42746013961901386\n",
      "\n",
      "\n",
      "At Random State 97 the traning accuracy is :- 0.4316740603279473\n",
      "\n",
      "\n",
      "At Random State 98 the traning accuracy is :- 0.4343332734141122\n",
      "\n",
      "\n",
      "At Random State 99 the traning accuracy is :- 0.41017387671320393\n",
      "\n",
      "\n",
      "At Random State 100 the traning accuracy is :- 0.44161125095439324\n",
      "\n",
      "\n",
      "At Random State 101 the traning accuracy is :- 0.42131769983861245\n",
      "\n",
      "\n",
      "At Random State 102 the traning accuracy is :- 0.4256475703813656\n",
      "\n",
      "\n",
      "At Random State 103 the traning accuracy is :- 0.43150494862144384\n",
      "\n",
      "\n",
      "At Random State 104 the traning accuracy is :- 0.43308038908082036\n",
      "\n",
      "\n",
      "At Random State 105 the traning accuracy is :- 0.42489239838114523\n",
      "\n",
      "\n",
      "At Random State 106 the traning accuracy is :- 0.4346964774910327\n",
      "\n",
      "\n",
      "At Random State 107 the traning accuracy is :- 0.4435771880105236\n",
      "\n",
      "\n",
      "At Random State 108 the traning accuracy is :- 0.42002633063360584\n",
      "\n",
      "\n",
      "At Random State 109 the traning accuracy is :- 0.42156083261936195\n",
      "\n",
      "\n",
      "At Random State 110 the traning accuracy is :- 0.40944660463503857\n",
      "\n",
      "\n",
      "At Random State 111 the traning accuracy is :- 0.4163597692677605\n",
      "\n",
      "\n",
      "At Random State 112 the traning accuracy is :- 0.42369617522698444\n",
      "\n",
      "\n",
      "At Random State 113 the traning accuracy is :- 0.4525992640527917\n",
      "\n",
      "\n",
      "At Random State 114 the traning accuracy is :- 0.43383140943705933\n",
      "\n",
      "\n",
      "At Random State 115 the traning accuracy is :- 0.42268521115122537\n",
      "\n",
      "\n",
      "At Random State 116 the traning accuracy is :- 0.4405334305874907\n",
      "\n",
      "\n",
      "At Random State 117 the traning accuracy is :- 0.43022624828358313\n",
      "\n",
      "\n",
      "At Random State 118 the traning accuracy is :- 0.4340527447030187\n",
      "\n",
      "\n",
      "At Random State 119 the traning accuracy is :- 0.41949518394857\n",
      "\n",
      "\n",
      "At Random State 120 the traning accuracy is :- 0.4156692578157344\n",
      "\n",
      "\n",
      "At Random State 121 the traning accuracy is :- 0.4220104696131052\n",
      "\n",
      "\n",
      "At Random State 122 the traning accuracy is :- 0.41638210056174607\n",
      "\n",
      "\n",
      "At Random State 123 the traning accuracy is :- 0.4129876483527314\n",
      "\n",
      "\n",
      "At Random State 124 the traning accuracy is :- 0.4261785548488909\n",
      "\n",
      "\n",
      "At Random State 125 the traning accuracy is :- 0.4266289665108175\n",
      "\n",
      "\n",
      "At Random State 126 the traning accuracy is :- 0.41817181518177726\n",
      "\n",
      "\n"
     ]
    },
    {
     "name": "stdout",
     "output_type": "stream",
     "text": [
      "At Random State 127 the traning accuracy is :- 0.4242530295861118\n",
      "\n",
      "\n",
      "At Random State 128 the traning accuracy is :- 0.41757095165288705\n",
      "\n",
      "\n",
      "At Random State 129 the traning accuracy is :- 0.4274095569671492\n",
      "\n",
      "\n",
      "At Random State 130 the traning accuracy is :- 0.428233865324112\n",
      "\n",
      "\n",
      "At Random State 131 the traning accuracy is :- 0.40719196525490453\n",
      "\n",
      "\n",
      "At Random State 132 the traning accuracy is :- 0.4212198876700748\n",
      "\n",
      "\n",
      "At Random State 133 the traning accuracy is :- 0.4314328103485744\n",
      "\n",
      "\n",
      "At Random State 134 the traning accuracy is :- 0.4387766544617433\n",
      "\n",
      "\n",
      "At Random State 135 the traning accuracy is :- 0.40941789602096623\n",
      "\n",
      "\n",
      "At Random State 136 the traning accuracy is :- 0.41143813007811314\n",
      "\n",
      "\n",
      "At Random State 137 the traning accuracy is :- 0.43890073579599664\n",
      "\n",
      "\n",
      "At Random State 138 the traning accuracy is :- 0.4461835150180027\n",
      "\n",
      "\n",
      "At Random State 139 the traning accuracy is :- 0.4040769852621727\n",
      "\n",
      "\n",
      "At Random State 140 the traning accuracy is :- 0.43347431594535624\n",
      "\n",
      "\n",
      "At Random State 141 the traning accuracy is :- 0.40801949332679954\n",
      "\n",
      "\n",
      "At Random State 142 the traning accuracy is :- 0.431282805608748\n",
      "\n",
      "\n",
      "At Random State 143 the traning accuracy is :- 0.41139185849166426\n",
      "\n",
      "\n",
      "At Random State 144 the traning accuracy is :- 0.42789439894253245\n",
      "\n",
      "\n",
      "At Random State 145 the traning accuracy is :- 0.4247909150862613\n",
      "\n",
      "\n",
      "At Random State 146 the traning accuracy is :- 0.42394521770103566\n",
      "\n",
      "\n",
      "At Random State 147 the traning accuracy is :- 0.4269328018869575\n",
      "\n",
      "\n",
      "At Random State 148 the traning accuracy is :- 0.42316755633068937\n",
      "\n",
      "\n",
      "At Random State 149 the traning accuracy is :- 0.4356556772743261\n",
      "\n",
      "\n",
      "At Random State 150 the traning accuracy is :- 0.43053048520859105\n",
      "\n",
      "\n",
      "At Random State 151 the traning accuracy is :- 0.3866015893072883\n",
      "\n",
      "\n",
      "At Random State 152 the traning accuracy is :- 0.4281110117250897\n",
      "\n",
      "\n",
      "At Random State 153 the traning accuracy is :- 0.44978329748147217\n",
      "\n",
      "\n",
      "At Random State 154 the traning accuracy is :- 0.43671316775123414\n",
      "\n",
      "\n",
      "At Random State 155 the traning accuracy is :- 0.433891276473496\n",
      "\n",
      "\n",
      "At Random State 156 the traning accuracy is :- 0.4119210964535933\n",
      "\n",
      "\n",
      "At Random State 157 the traning accuracy is :- 0.40935600346940737\n",
      "\n",
      "\n",
      "At Random State 158 the traning accuracy is :- 0.41888575058811006\n",
      "\n",
      "\n",
      "At Random State 159 the traning accuracy is :- 0.43723160975232045\n",
      "\n",
      "\n",
      "At Random State 160 the traning accuracy is :- 0.4263658161902887\n",
      "\n",
      "\n",
      "At Random State 161 the traning accuracy is :- 0.41940008078829527\n",
      "\n",
      "\n",
      "At Random State 162 the traning accuracy is :- 0.4386202957791172\n",
      "\n",
      "\n",
      "At Random State 163 the traning accuracy is :- 0.4325727442677696\n",
      "\n",
      "\n",
      "At Random State 164 the traning accuracy is :- 0.43281444731544527\n",
      "\n",
      "\n",
      "At Random State 165 the traning accuracy is :- 0.42154924411411976\n",
      "\n",
      "\n",
      "At Random State 166 the traning accuracy is :- 0.4054314625155362\n",
      "\n",
      "\n",
      "At Random State 167 the traning accuracy is :- 0.44177550062626136\n",
      "\n",
      "\n",
      "At Random State 168 the traning accuracy is :- 0.44591725580587016\n",
      "\n",
      "\n",
      "At Random State 169 the traning accuracy is :- 0.44698554744684926\n",
      "\n",
      "\n",
      "At Random State 170 the traning accuracy is :- 0.41350138184062923\n",
      "\n",
      "\n",
      "At Random State 171 the traning accuracy is :- 0.42678588064124867\n",
      "\n",
      "\n",
      "At Random State 172 the traning accuracy is :- 0.4095824391338774\n",
      "\n",
      "\n",
      "At Random State 173 the traning accuracy is :- 0.43627315618115325\n",
      "\n",
      "\n",
      "At Random State 174 the traning accuracy is :- 0.4186758889971547\n",
      "\n",
      "\n",
      "At Random State 175 the traning accuracy is :- 0.42502746075783426\n",
      "\n",
      "\n",
      "At Random State 176 the traning accuracy is :- 0.4236362081697159\n",
      "\n",
      "\n",
      "At Random State 177 the traning accuracy is :- 0.42027186401729966\n",
      "\n",
      "\n",
      "At Random State 178 the traning accuracy is :- 0.41626483151810334\n",
      "\n",
      "\n",
      "At Random State 179 the traning accuracy is :- 0.39441062787541104\n",
      "\n",
      "\n",
      "At Random State 180 the traning accuracy is :- 0.4376627492427153\n",
      "\n",
      "\n",
      "At Random State 181 the traning accuracy is :- 0.42279603652046416\n",
      "\n",
      "\n",
      "At Random State 182 the traning accuracy is :- 0.4210830185347564\n",
      "\n",
      "\n",
      "At Random State 183 the traning accuracy is :- 0.4052717216215205\n",
      "\n",
      "\n",
      "At Random State 184 the traning accuracy is :- 0.4294246481119567\n",
      "\n",
      "\n",
      "At Random State 185 the traning accuracy is :- 0.4233941607568531\n",
      "\n",
      "\n",
      "At Random State 186 the traning accuracy is :- 0.41622173394779716\n",
      "\n",
      "\n",
      "At Random State 187 the traning accuracy is :- 0.4539613806723247\n",
      "\n",
      "\n",
      "At Random State 188 the traning accuracy is :- 0.4316877516486516\n",
      "\n",
      "\n",
      "At Random State 189 the traning accuracy is :- 0.42085901748534726\n",
      "\n",
      "\n",
      "At Random State 190 the traning accuracy is :- 0.4193113172014885\n",
      "\n",
      "\n",
      "At Random State 191 the traning accuracy is :- 0.41786831170601535\n",
      "\n",
      "\n",
      "At Random State 192 the traning accuracy is :- 0.432762249260916\n",
      "\n",
      "\n",
      "At Random State 193 the traning accuracy is :- 0.40358943514165546\n",
      "\n",
      "\n",
      "At Random State 194 the traning accuracy is :- 0.4195560839290964\n",
      "\n",
      "\n",
      "At Random State 195 the traning accuracy is :- 0.4258724420319304\n",
      "\n",
      "\n",
      "At Random State 196 the traning accuracy is :- 0.4199288047336701\n",
      "\n",
      "\n",
      "At Random State 197 the traning accuracy is :- 0.4348543435382629\n",
      "\n",
      "\n",
      "At Random State 198 the traning accuracy is :- 0.43022202479636684\n",
      "\n",
      "\n",
      "At Random State 199 the traning accuracy is :- 0.4158954327594163\n",
      "\n",
      "\n"
     ]
    }
   ],
   "source": [
    "for i in range(0,200):\n",
    "    df_x_train,df_x_test,y_train,y_test=train_test_split(df_x,y,test_size=0.2,random_state=i)\n",
    "    lr.fit(df_x_train,y_train)\n",
    "    pred_train = lr.predict(df_x_train)\n",
    "    pred_test = lr.predict(df_x_test)\n",
    "    print(\"At Random State\",i,\"the traning accuracy is :-\", r2_score(y_train,pred_train))\n",
    "    print(\"\\n\")"
   ]
  },
  {
   "cell_type": "code",
   "execution_count": 497,
   "metadata": {},
   "outputs": [],
   "source": [
    "df_x_train,df_x_test,y_train,y_test=train_test_split(df_x,y,test_size=0.2,random_state=187)"
   ]
  },
  {
   "cell_type": "code",
   "execution_count": 499,
   "metadata": {},
   "outputs": [],
   "source": [
    "from sklearn.model_selection import GridSearchCV\n",
    "from sklearn.ensemble import RandomForestRegressor"
   ]
  },
  {
   "cell_type": "code",
   "execution_count": 500,
   "metadata": {},
   "outputs": [
    {
     "name": "stdout",
     "output_type": "stream",
     "text": [
      "R2 Score 73.92547121219873\n"
     ]
    }
   ],
   "source": [
    "rf = RandomForestRegressor()\n",
    "rf.fit(df_x_train,y_train)\n",
    "rf.score(df_x_train,y_train)\n",
    "predrf = rf.predict(df_x_test)\n",
    "\n",
    "rfs = r2_score(y_test,predrf)\n",
    "print('R2 Score',rfs*100)"
   ]
  },
  {
   "cell_type": "code",
   "execution_count": 501,
   "metadata": {},
   "outputs": [],
   "source": [
    "import pickle\n",
    "filename = 'avocado.pkl'\n",
    "pickle.dump(rf,open(filename,'wb'))"
   ]
  },
  {
   "cell_type": "code",
   "execution_count": 502,
   "metadata": {},
   "outputs": [
    {
     "name": "stdout",
     "output_type": "stream",
     "text": [
      "0.7392547121219872\n"
     ]
    }
   ],
   "source": [
    "loaded_model = pickle.load(open('avocado.pkl','rb'))\n",
    "result = loaded_model.score(df_x_test,y_test)\n",
    "print(result)"
   ]
  },
  {
   "cell_type": "code",
   "execution_count": null,
   "metadata": {},
   "outputs": [],
   "source": []
  }
 ],
 "metadata": {
  "kernelspec": {
   "display_name": "Python 3",
   "language": "python",
   "name": "python3"
  },
  "language_info": {
   "codemirror_mode": {
    "name": "ipython",
    "version": 3
   },
   "file_extension": ".py",
   "mimetype": "text/x-python",
   "name": "python",
   "nbconvert_exporter": "python",
   "pygments_lexer": "ipython3",
   "version": "3.8.3"
  }
 },
 "nbformat": 4,
 "nbformat_minor": 4
}
